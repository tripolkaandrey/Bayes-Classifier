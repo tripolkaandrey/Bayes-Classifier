{
  "nbformat": 4,
  "nbformat_minor": 0,
  "metadata": {
    "colab": {
      "name": "РГЗ.ipynb",
      "provenance": [],
      "collapsed_sections": []
    },
    "kernelspec": {
      "name": "python3",
      "display_name": "Python 3"
    }
  },
  "cells": [
    {
      "cell_type": "code",
      "metadata": {
        "id": "DiaieEXVHJzT"
      },
      "source": [
        "import pandas as pd\n",
        "import matplotlib.pyplot as plt"
      ],
      "execution_count": 45,
      "outputs": []
    },
    {
      "cell_type": "code",
      "metadata": {
        "colab": {
          "base_uri": "https://localhost:8080/",
          "height": 708
        },
        "id": "hspFt1TlHZWb",
        "outputId": "965f13bc-9e15-410e-b49f-5025f639baff"
      },
      "source": [
        "dataset = pd.read_csv(\"sample_data/Dataset.csv\")\n",
        "dataset"
      ],
      "execution_count": 46,
      "outputs": [
        {
          "output_type": "execute_result",
          "data": {
            "text/html": [
              "<div>\n",
              "<style scoped>\n",
              "    .dataframe tbody tr th:only-of-type {\n",
              "        vertical-align: middle;\n",
              "    }\n",
              "\n",
              "    .dataframe tbody tr th {\n",
              "        vertical-align: top;\n",
              "    }\n",
              "\n",
              "    .dataframe thead th {\n",
              "        text-align: right;\n",
              "    }\n",
              "</style>\n",
              "<table border=\"1\" class=\"dataframe\">\n",
              "  <thead>\n",
              "    <tr style=\"text-align: right;\">\n",
              "      <th></th>\n",
              "      <th>Word</th>\n",
              "      <th>Text</th>\n",
              "      <th>URL</th>\n",
              "    </tr>\n",
              "  </thead>\n",
              "  <tbody>\n",
              "    <tr>\n",
              "      <th>0</th>\n",
              "      <td>пo-/iн/`aк+ш+oму</td>\n",
              "      <td>Все тут [на фронті] було #по-інакшому#. Думки ...</td>\n",
              "      <td>http://ukrlit.org/faily/avtor/dovzhenko_oleksa...</td>\n",
              "    </tr>\n",
              "    <tr>\n",
              "      <th>1</th>\n",
              "      <td>/iн/`aк+ш+e</td>\n",
              "      <td>Суддя бачив, що бурлацьке діло розв'язується т...</td>\n",
              "      <td>http://bukvoid.com.ua/library/ivan_nechuy-levi...</td>\n",
              "    </tr>\n",
              "    <tr>\n",
              "      <th>2</th>\n",
              "      <td>/iн/`aк+ш+e</td>\n",
              "      <td>Коли Іванові минуло сім літ, він вже дивився н...</td>\n",
              "      <td>https://www.livelib.ru/quote/389298-tini-zabut...</td>\n",
              "    </tr>\n",
              "    <tr>\n",
              "      <th>3</th>\n",
              "      <td>зa/вoд/ij+`aк*a</td>\n",
              "      <td>Він - #заводіяка# і призвідця всіляких витівок...</td>\n",
              "      <td>https://naurok.com.ua/uroki-ukra-nsko-literatu...</td>\n",
              "    </tr>\n",
              "    <tr>\n",
              "      <th>4</th>\n",
              "      <td>/пись/м+`aк</td>\n",
              "      <td>Сопілку здумав нарядить.\\nЗробив, і як прийняв...</td>\n",
              "      <td>https://archive.org/stream/burleskXIX/BurleskX...</td>\n",
              "    </tr>\n",
              "    <tr>\n",
              "      <th>5</th>\n",
              "      <td>пo/туp/н+`aк</td>\n",
              "      <td>Торік восени рушив наш батько через море, і пі...</td>\n",
              "      <td>https://www.myslenedrevo.com.ua/uk/Lit/T/Tulub...</td>\n",
              "    </tr>\n",
              "    <tr>\n",
              "      <th>6</th>\n",
              "      <td>/пapуб/ч+`aк</td>\n",
              "      <td>Золотницький сидить на лаві за столом.. Ясь ст...</td>\n",
              "      <td>http://library.kr.ua/elib/kariy/khazayin.html</td>\n",
              "    </tr>\n",
              "    <tr>\n",
              "      <th>7</th>\n",
              "      <td>/дв/oj+`aк+o</td>\n",
              "      <td>сторонні люди, розбираючись в тому, що відбува...</td>\n",
              "      <td>https://uk.wikisource.org/wiki/%D0%93%D1%96%D1...</td>\n",
              "    </tr>\n",
              "    <tr>\n",
              "      <th>8</th>\n",
              "      <td>/бiд/oл+`aк*a</td>\n",
              "      <td>“Я не #бідолаха#”: білоруски записали відео-ві...</td>\n",
              "      <td>https://povaha.org.ua/ya-ne-bidolaha-bilorusky...</td>\n",
              "    </tr>\n",
              "    <tr>\n",
              "      <th>9</th>\n",
              "      <td>/сoл/oн+ч+`aк</td>\n",
              "      <td>Крім того, на випаровування використовується ...</td>\n",
              "      <td>http://cgo-sreznevskyi.kyiv.ua/data/bis3/zemle...</td>\n",
              "    </tr>\n",
              "    <tr>\n",
              "      <th>10</th>\n",
              "      <td>/персон/`ал</td>\n",
              "      <td>Він просив увесь готелевий #персонал# таїти кі...</td>\n",
              "      <td>https://core.ac.uk/download/pdf/52158889.pdf</td>\n",
              "    </tr>\n",
              "    <tr>\n",
              "      <th>11</th>\n",
              "      <td>/кримін/`ал</td>\n",
              "      <td>Особливо актуальною ця тема є зараз, коли в Ук...</td>\n",
              "      <td>https://news.24tv.ua/kriminal_tag179/</td>\n",
              "    </tr>\n",
              "    <tr>\n",
              "      <th>12</th>\n",
              "      <td>/інтегр/`ал</td>\n",
              "      <td>в математичному аналізі це #інтеграл# функції...</td>\n",
              "      <td>https://uk.wikipedia.org/wiki/%D0%86%D0%BD%D1%...</td>\n",
              "    </tr>\n",
              "    <tr>\n",
              "      <th>13</th>\n",
              "      <td>/барбіт/`ал</td>\n",
              "      <td>#Барбітал# проникає до плаценти і неонатальна ...</td>\n",
              "      <td>http://utis.in.ua/barbital/</td>\n",
              "    </tr>\n",
              "    <tr>\n",
              "      <th>14</th>\n",
              "      <td>/pиб/`aл+eнн*я</td>\n",
              "      <td>Та хіба ж ми не рибалимо в морі? І в Азовськом...</td>\n",
              "      <td>https://www.ukrlib.com.ua/books/printit.php?ti...</td>\n",
              "    </tr>\n",
              "    <tr>\n",
              "      <th>15</th>\n",
              "      <td>/pиб/`aл+и+ти</td>\n",
              "      <td>Держенергонагляд попереджає: рибалити поблизу ...</td>\n",
              "      <td>https://pogrda.gov.ua/images/doc/20/01/200814_...</td>\n",
              "    </tr>\n",
              "    <tr>\n",
              "      <th>16</th>\n",
              "      <td>/poг/`aл+ик</td>\n",
              "      <td>Змащуємо кожен #рогалик# яєчним жовтком і злег...</td>\n",
              "      <td>https://smachno.ua/ua/recepty/deserty-i-vypech...</td>\n",
              "    </tr>\n",
              "    <tr>\n",
              "      <th>17</th>\n",
              "      <td>/кoв/aл+`иx*a</td>\n",
              "      <td>А мені, — каже, — розказувала про се покійна #...</td>\n",
              "      <td>https://ru.osvita.ua/school/literature/k/69789...</td>\n",
              "    </tr>\n",
              "    <tr>\n",
              "      <th>18</th>\n",
              "      <td>/кoв/aл+`iв+ськ*ий</td>\n",
              "      <td>#Ковалівський# — вибір тих, хто хоче змінити с...</td>\n",
              "      <td>https://kovalivskyi.kr.ua/\\nhttps://uk.wikiped...</td>\n",
              "    </tr>\n",
              "    <tr>\n",
              "      <th>19</th>\n",
              "      <td>/фopм/aл+iз+ув`a+ти</td>\n",
              "      <td>У ВР запропонували #формалізувати# прецедент.\\...</td>\n",
              "      <td>https://radako.com.ua/news/u-vr-zaproponuvali-...</td>\n",
              "    </tr>\n",
              "    <tr>\n",
              "      <th>20</th>\n",
              "      <td>нopм/aл+iз+ув`a+ти+ся</td>\n",
              "      <td>Висока температура повинна #нормалізуватися# п...</td>\n",
              "      <td>https://moz.gov.ua/article/health/scho-robiti-...</td>\n",
              "    </tr>\n",
              "  </tbody>\n",
              "</table>\n",
              "</div>"
            ],
            "text/plain": [
              "                       Word  ...                                                URL\n",
              "0          пo-/iн/`aк+ш+oму  ...  http://ukrlit.org/faily/avtor/dovzhenko_oleksa...\n",
              "1           /iн/`aк+ш+e      ...  http://bukvoid.com.ua/library/ivan_nechuy-levi...\n",
              "2        /iн/`aк+ш+e         ...  https://www.livelib.ru/quote/389298-tini-zabut...\n",
              "3       зa/вoд/ij+`aк*a      ...  https://naurok.com.ua/uroki-ukra-nsko-literatu...\n",
              "4              /пись/м+`aк   ...  https://archive.org/stream/burleskXIX/BurleskX...\n",
              "5            пo/туp/н+`aк    ...  https://www.myslenedrevo.com.ua/uk/Lit/T/Tulub...\n",
              "6             /пapуб/ч+`aк   ...      http://library.kr.ua/elib/kariy/khazayin.html\n",
              "7            /дв/oj+`aк+o    ...  https://uk.wikisource.org/wiki/%D0%93%D1%96%D1...\n",
              "8          /бiд/oл+`aк*a     ...  https://povaha.org.ua/ya-ne-bidolaha-bilorusky...\n",
              "9            /сoл/oн+ч+`aк   ...  http://cgo-sreznevskyi.kyiv.ua/data/bis3/zemle...\n",
              "10              /персон/`ал  ...       https://core.ac.uk/download/pdf/52158889.pdf\n",
              "11              /кримін/`ал  ...              https://news.24tv.ua/kriminal_tag179/\n",
              "12              /інтегр/`ал  ...  https://uk.wikipedia.org/wiki/%D0%86%D0%BD%D1%...\n",
              "13              /барбіт/`ал  ...                        http://utis.in.ua/barbital/\n",
              "14         /pиб/`aл+eнн*я    ...  https://www.ukrlib.com.ua/books/printit.php?ti...\n",
              "15           /pиб/`aл+и+ти   ...  https://pogrda.gov.ua/images/doc/20/01/200814_...\n",
              "16            /poг/`aл+ик    ...  https://smachno.ua/ua/recepty/deserty-i-vypech...\n",
              "17       /кoв/aл+`иx*a       ...  https://ru.osvita.ua/school/literature/k/69789...\n",
              "18      /кoв/aл+`iв+ськ*ий   ...  https://kovalivskyi.kr.ua/\\nhttps://uk.wikiped...\n",
              "19     /фopм/aл+iз+ув`a+ти   ...  https://radako.com.ua/news/u-vr-zaproponuvali-...\n",
              "20  нopм/aл+iз+ув`a+ти+ся    ...  https://moz.gov.ua/article/health/scho-robiti-...\n",
              "\n",
              "[21 rows x 3 columns]"
            ]
          },
          "metadata": {
            "tags": []
          },
          "execution_count": 46
        }
      ]
    },
    {
      "cell_type": "code",
      "metadata": {
        "id": "Z6ul0Ij3rfAM"
      },
      "source": [
        "def clean_word(word): \n",
        "  result = word.replace(\".\", \"\")\n",
        "  result = result.replace(\",\", \"\")\n",
        "  result = result.replace(\"/n\", \"\")\n",
        "  result = result.replace(\"\\n\", \"\")\n",
        "  result = result.replace(\"-\",\"\")\n",
        "  result = result.replace(\"[\",\"\")\n",
        "  result = result.replace(\"]\",\"\")\n",
        "  result = result.replace(\"«\",\"\")\n",
        "  result = result.replace(\"»\",\"\")\n",
        "  result = result.replace(\"{\",\"\")\n",
        "  result = result.replace(\"}\",\"\")\n",
        "  result = result.replace(\"—\",\"\")\n",
        "  result = result.replace(\"(\",\"\")\n",
        "  result = result.replace(\")\",\"\")\n",
        "  return result.lower()\n"
      ],
      "execution_count": 47,
      "outputs": []
    },
    {
      "cell_type": "code",
      "metadata": {
        "id": "mCMsJUooLMqe"
      },
      "source": [
        "def get_freq_dict(text):\n",
        "  freq_dict = {}\n",
        "  for word in text.split(\" \"):\n",
        "    current = clean_word(word)\n",
        "    if(current not in freq_dict.keys()):\n",
        "      freq_dict[current] = 1\n",
        "    else:\n",
        "      freq_dict[current] += 1\n",
        "  del(freq_dict[\"\"])\n",
        "  return freq_dict\n"
      ],
      "execution_count": 48,
      "outputs": []
    },
    {
      "cell_type": "code",
      "metadata": {
        "id": "9N13MUoHJVki"
      },
      "source": [
        "def get_all_text(dataset):\n",
        "  all_text = \"\"\n",
        "  \n",
        "  for text in dataset[\"Text\"]:\n",
        "    all_text += text.replace(\"#\", \"\") + \" \"\n",
        "\n",
        "  return all_text"
      ],
      "execution_count": 49,
      "outputs": []
    },
    {
      "cell_type": "code",
      "metadata": {
        "id": "2kJLJGM3rjGe"
      },
      "source": [
        "def get_word_count(text):\n",
        "  count = len(text.split(' '))\n",
        "  return count"
      ],
      "execution_count": 50,
      "outputs": []
    },
    {
      "cell_type": "code",
      "metadata": {
        "id": "6V35Z4tMsPUc"
      },
      "source": [
        "def get_top30(freq_df):\n",
        "  top30_df = freq_df.nlargest(30, 'count')\n",
        "  return top30_df"
      ],
      "execution_count": 51,
      "outputs": []
    },
    {
      "cell_type": "code",
      "metadata": {
        "colab": {
          "base_uri": "https://localhost:8080/",
          "height": 990
        },
        "id": "kJ_ikqcrO1LF",
        "outputId": "48f45775-c90a-4936-f4c7-472125992158"
      },
      "source": [
        "spam_text = get_all_text(dataset)\r\n",
        "spam_freq_dict = get_freq_dict(spam_text)\r\n",
        "spam_df = pd.DataFrame(spam_freq_dict.items(), columns=['word', 'count'])\r\n",
        "spam_df.to_csv(\"sample_data/spam.csv\", index = False)\r\n",
        "spam_df = pd.read_csv(\"sample_data/spam.csv\")\r\n",
        "spam_df.head(30)"
      ],
      "execution_count": 73,
      "outputs": [
        {
          "output_type": "execute_result",
          "data": {
            "text/html": [
              "<div>\n",
              "<style scoped>\n",
              "    .dataframe tbody tr th:only-of-type {\n",
              "        vertical-align: middle;\n",
              "    }\n",
              "\n",
              "    .dataframe tbody tr th {\n",
              "        vertical-align: top;\n",
              "    }\n",
              "\n",
              "    .dataframe thead th {\n",
              "        text-align: right;\n",
              "    }\n",
              "</style>\n",
              "<table border=\"1\" class=\"dataframe\">\n",
              "  <thead>\n",
              "    <tr style=\"text-align: right;\">\n",
              "      <th></th>\n",
              "      <th>word</th>\n",
              "      <th>count</th>\n",
              "    </tr>\n",
              "  </thead>\n",
              "  <tbody>\n",
              "    <tr>\n",
              "      <th>0</th>\n",
              "      <td>все</td>\n",
              "      <td>3</td>\n",
              "    </tr>\n",
              "    <tr>\n",
              "      <th>1</th>\n",
              "      <td>тут</td>\n",
              "      <td>1</td>\n",
              "    </tr>\n",
              "    <tr>\n",
              "      <th>2</th>\n",
              "      <td>на</td>\n",
              "      <td>15</td>\n",
              "    </tr>\n",
              "    <tr>\n",
              "      <th>3</th>\n",
              "      <td>фронті</td>\n",
              "      <td>1</td>\n",
              "    </tr>\n",
              "    <tr>\n",
              "      <th>4</th>\n",
              "      <td>було</td>\n",
              "      <td>1</td>\n",
              "    </tr>\n",
              "    <tr>\n",
              "      <th>5</th>\n",
              "      <td>поінакшому</td>\n",
              "      <td>2</td>\n",
              "    </tr>\n",
              "    <tr>\n",
              "      <th>6</th>\n",
              "      <td>думки</td>\n",
              "      <td>1</td>\n",
              "    </tr>\n",
              "    <tr>\n",
              "      <th>7</th>\n",
              "      <td>проносились</td>\n",
              "      <td>1</td>\n",
              "    </tr>\n",
              "    <tr>\n",
              "      <th>8</th>\n",
              "      <td>одна</td>\n",
              "      <td>1</td>\n",
              "    </tr>\n",
              "    <tr>\n",
              "      <th>9</th>\n",
              "      <td>одної</td>\n",
              "      <td>1</td>\n",
              "    </tr>\n",
              "    <tr>\n",
              "      <th>10</th>\n",
              "      <td>вищі</td>\n",
              "      <td>1</td>\n",
              "    </tr>\n",
              "    <tr>\n",
              "      <th>11</th>\n",
              "      <td>й</td>\n",
              "      <td>6</td>\n",
              "    </tr>\n",
              "    <tr>\n",
              "      <th>12</th>\n",
              "      <td>значніші</td>\n",
              "      <td>1</td>\n",
              "    </tr>\n",
              "    <tr>\n",
              "      <th>13</th>\n",
              "      <td>розуміння</td>\n",
              "      <td>1</td>\n",
              "    </tr>\n",
              "    <tr>\n",
              "      <th>14</th>\n",
              "      <td>товариськості</td>\n",
              "      <td>1</td>\n",
              "    </tr>\n",
              "    <tr>\n",
              "      <th>15</th>\n",
              "      <td>стало</td>\n",
              "      <td>1</td>\n",
              "    </tr>\n",
              "    <tr>\n",
              "      <th>16</th>\n",
              "      <td>сердечнішим</td>\n",
              "      <td>1</td>\n",
              "    </tr>\n",
              "    <tr>\n",
              "      <th>17</th>\n",
              "      <td>і</td>\n",
              "      <td>18</td>\n",
              "    </tr>\n",
              "    <tr>\n",
              "      <th>18</th>\n",
              "      <td>ясним</td>\n",
              "      <td>1</td>\n",
              "    </tr>\n",
              "    <tr>\n",
              "      <th>19</th>\n",
              "      <td>як</td>\n",
              "      <td>3</td>\n",
              "    </tr>\n",
              "    <tr>\n",
              "      <th>20</th>\n",
              "      <td>ніколи</td>\n",
              "      <td>1</td>\n",
              "    </tr>\n",
              "    <tr>\n",
              "      <th>21</th>\n",
              "      <td>ні</td>\n",
              "      <td>2</td>\n",
              "    </tr>\n",
              "    <tr>\n",
              "      <th>22</th>\n",
              "      <td>вдома</td>\n",
              "      <td>1</td>\n",
              "    </tr>\n",
              "    <tr>\n",
              "      <th>23</th>\n",
              "      <td>в</td>\n",
              "      <td>15</td>\n",
              "    </tr>\n",
              "    <tr>\n",
              "      <th>24</th>\n",
              "      <td>школісправді</td>\n",
              "      <td>1</td>\n",
              "    </tr>\n",
              "    <tr>\n",
              "      <th>25</th>\n",
              "      <td>зразу</td>\n",
              "      <td>1</td>\n",
              "    </tr>\n",
              "    <tr>\n",
              "      <th>26</th>\n",
              "      <td>пішло</td>\n",
              "      <td>1</td>\n",
              "    </tr>\n",
              "    <tr>\n",
              "      <th>27</th>\n",
              "      <td>іванов</td>\n",
              "      <td>1</td>\n",
              "    </tr>\n",
              "    <tr>\n",
              "      <th>28</th>\n",
              "      <td>з</td>\n",
              "      <td>6</td>\n",
              "    </tr>\n",
              "    <tr>\n",
              "      <th>29</th>\n",
              "      <td>прапором</td>\n",
              "      <td>1</td>\n",
              "    </tr>\n",
              "  </tbody>\n",
              "</table>\n",
              "</div>"
            ],
            "text/plain": [
              "             word  count\n",
              "0             все      3\n",
              "1             тут      1\n",
              "2              на     15\n",
              "3          фронті      1\n",
              "4            було      1\n",
              "5      поінакшому      2\n",
              "6           думки      1\n",
              "7     проносились      1\n",
              "8            одна      1\n",
              "9           одної      1\n",
              "10           вищі      1\n",
              "11              й      6\n",
              "12       значніші      1\n",
              "13      розуміння      1\n",
              "14  товариськості      1\n",
              "15          стало      1\n",
              "16    сердечнішим      1\n",
              "17              і     18\n",
              "18          ясним      1\n",
              "19             як      3\n",
              "20         ніколи      1\n",
              "21             ні      2\n",
              "22          вдома      1\n",
              "23              в     15\n",
              "24   школісправді      1\n",
              "25          зразу      1\n",
              "26          пішло      1\n",
              "27         іванов      1\n",
              "28              з      6\n",
              "29       прапором      1"
            ]
          },
          "metadata": {
            "tags": []
          },
          "execution_count": 73
        }
      ]
    },
    {
      "cell_type": "code",
      "metadata": {
        "colab": {
          "base_uri": "https://localhost:8080/"
        },
        "id": "DrETYzukPhf9",
        "outputId": "7ae5eccc-8234-4a2d-8b9f-ed30c658e708"
      },
      "source": [
        "get_word_count(spam_text)"
      ],
      "execution_count": 53,
      "outputs": [
        {
          "output_type": "execute_result",
          "data": {
            "text/plain": [
              "749"
            ]
          },
          "metadata": {
            "tags": []
          },
          "execution_count": 53
        }
      ]
    },
    {
      "cell_type": "code",
      "metadata": {
        "id": "eH15dSXDO2xB"
      },
      "source": [
        "top30_spam_df = get_top30(spam_df)"
      ],
      "execution_count": 54,
      "outputs": []
    },
    {
      "cell_type": "code",
      "metadata": {
        "colab": {
          "base_uri": "https://localhost:8080/",
          "height": 318
        },
        "id": "3_YmJtZhR1QI",
        "outputId": "c64650e4-2778-4ee2-d87c-2c1c1510a31c"
      },
      "source": [
        "plt.bar(top30_spam_df[\"word\"], top30_spam_df[\"count\"])\n",
        "plt.xticks(rotation=270)\n",
        "plt.show()"
      ],
      "execution_count": 55,
      "outputs": [
        {
          "output_type": "display_data",
          "data": {
            "image/png": "[encoded data removed]",
            "text/plain": [
              "<Figure size 432x288 with 1 Axes>"
            ]
          },
          "metadata": {
            "tags": [],
            "needs_background": "light"
          }
        }
      ]
    },
    {
      "cell_type": "code",
      "metadata": {
        "colab": {
          "base_uri": "https://localhost:8080/",
          "height": 990
        },
        "id": "y3zjDyhuO877",
        "outputId": "79b071f5-c553-44cd-b032-22119cf20131"
      },
      "source": [
        "related_text = open(\"sample_data/related_text.txt\",\"r\",encoding=\"utf-8\").read()\r\n",
        "related_freq_dict = get_freq_dict(related_text)\r\n",
        "related_df = pd.DataFrame(related_freq_dict.items(), columns=['word', 'count'])\r\n",
        "related_df.to_csv(\"sample_data/related.csv\", index = False)\r\n",
        "related_df = pd.read_csv(\"sample_data/related.csv\")\r\n",
        "related_df.head(30)"
      ],
      "execution_count": 72,
      "outputs": [
        {
          "output_type": "execute_result",
          "data": {
            "text/html": [
              "<div>\n",
              "<style scoped>\n",
              "    .dataframe tbody tr th:only-of-type {\n",
              "        vertical-align: middle;\n",
              "    }\n",
              "\n",
              "    .dataframe tbody tr th {\n",
              "        vertical-align: top;\n",
              "    }\n",
              "\n",
              "    .dataframe thead th {\n",
              "        text-align: right;\n",
              "    }\n",
              "</style>\n",
              "<table border=\"1\" class=\"dataframe\">\n",
              "  <thead>\n",
              "    <tr style=\"text-align: right;\">\n",
              "      <th></th>\n",
              "      <th>word</th>\n",
              "      <th>count</th>\n",
              "    </tr>\n",
              "  </thead>\n",
              "  <tbody>\n",
              "    <tr>\n",
              "      <th>0</th>\n",
              "      <td>1</td>\n",
              "      <td>2</td>\n",
              "    </tr>\n",
              "    <tr>\n",
              "      <th>1</th>\n",
              "      <td>до</td>\n",
              "      <td>14</td>\n",
              "    </tr>\n",
              "    <tr>\n",
              "      <th>2</th>\n",
              "      <td>персоналу</td>\n",
              "      <td>1</td>\n",
              "    </tr>\n",
              "    <tr>\n",
              "      <th>3</th>\n",
              "      <td>державної</td>\n",
              "      <td>8</td>\n",
              "    </tr>\n",
              "    <tr>\n",
              "      <th>4</th>\n",
              "      <td>кримінальновиконавчої</td>\n",
              "      <td>13</td>\n",
              "    </tr>\n",
              "    <tr>\n",
              "      <th>5</th>\n",
              "      <td>служби</td>\n",
              "      <td>18</td>\n",
              "    </tr>\n",
              "    <tr>\n",
              "      <th>6</th>\n",
              "      <td>україни</td>\n",
              "      <td>23</td>\n",
              "    </tr>\n",
              "    <tr>\n",
              "      <th>7</th>\n",
              "      <td>належать</td>\n",
              "      <td>1</td>\n",
              "    </tr>\n",
              "    <tr>\n",
              "      <th>8</th>\n",
              "      <td>особи</td>\n",
              "      <td>2</td>\n",
              "    </tr>\n",
              "    <tr>\n",
              "      <th>9</th>\n",
              "      <td>рядового</td>\n",
              "      <td>8</td>\n",
              "    </tr>\n",
              "    <tr>\n",
              "      <th>10</th>\n",
              "      <td>і</td>\n",
              "      <td>22</td>\n",
              "    </tr>\n",
              "    <tr>\n",
              "      <th>11</th>\n",
              "      <td>начальницького</td>\n",
              "      <td>8</td>\n",
              "    </tr>\n",
              "    <tr>\n",
              "      <th>12</th>\n",
              "      <td>складу</td>\n",
              "      <td>8</td>\n",
              "    </tr>\n",
              "    <tr>\n",
              "      <th>13</th>\n",
              "      <td>далі</td>\n",
              "      <td>2</td>\n",
              "    </tr>\n",
              "    <tr>\n",
              "      <th>14</th>\n",
              "      <td>спеціалісти</td>\n",
              "      <td>1</td>\n",
              "    </tr>\n",
              "    <tr>\n",
              "      <th>15</th>\n",
              "      <td>які</td>\n",
              "      <td>7</td>\n",
              "    </tr>\n",
              "    <tr>\n",
              "      <th>16</th>\n",
              "      <td>не</td>\n",
              "      <td>6</td>\n",
              "    </tr>\n",
              "    <tr>\n",
              "      <th>17</th>\n",
              "      <td>мають</td>\n",
              "      <td>2</td>\n",
              "    </tr>\n",
              "    <tr>\n",
              "      <th>18</th>\n",
              "      <td>спеціальних</td>\n",
              "      <td>3</td>\n",
              "    </tr>\n",
              "    <tr>\n",
              "      <th>19</th>\n",
              "      <td>звань</td>\n",
              "      <td>3</td>\n",
              "    </tr>\n",
              "    <tr>\n",
              "      <th>20</th>\n",
              "      <td>та</td>\n",
              "      <td>11</td>\n",
              "    </tr>\n",
              "    <tr>\n",
              "      <th>21</th>\n",
              "      <td>інші</td>\n",
              "      <td>1</td>\n",
              "    </tr>\n",
              "    <tr>\n",
              "      <th>22</th>\n",
              "      <td>працівники</td>\n",
              "      <td>2</td>\n",
              "    </tr>\n",
              "    <tr>\n",
              "      <th>23</th>\n",
              "      <td>працюють</td>\n",
              "      <td>1</td>\n",
              "    </tr>\n",
              "    <tr>\n",
              "      <th>24</th>\n",
              "      <td>за</td>\n",
              "      <td>14</td>\n",
              "    </tr>\n",
              "    <tr>\n",
              "      <th>25</th>\n",
              "      <td>трудовими</td>\n",
              "      <td>2</td>\n",
              "    </tr>\n",
              "    <tr>\n",
              "      <th>26</th>\n",
              "      <td>договорами</td>\n",
              "      <td>2</td>\n",
              "    </tr>\n",
              "    <tr>\n",
              "      <th>27</th>\n",
              "      <td>в</td>\n",
              "      <td>13</td>\n",
              "    </tr>\n",
              "    <tr>\n",
              "      <th>28</th>\n",
              "      <td>державній</td>\n",
              "      <td>5</td>\n",
              "    </tr>\n",
              "    <tr>\n",
              "      <th>29</th>\n",
              "      <td>кримінальновиконавчій</td>\n",
              "      <td>5</td>\n",
              "    </tr>\n",
              "  </tbody>\n",
              "</table>\n",
              "</div>"
            ],
            "text/plain": [
              "                     word  count\n",
              "0                       1      2\n",
              "1                      до     14\n",
              "2               персоналу      1\n",
              "3               державної      8\n",
              "4   кримінальновиконавчої     13\n",
              "5                  служби     18\n",
              "6                 україни     23\n",
              "7                належать      1\n",
              "8                   особи      2\n",
              "9                рядового      8\n",
              "10                      і     22\n",
              "11         начальницького      8\n",
              "12                 складу      8\n",
              "13                   далі      2\n",
              "14            спеціалісти      1\n",
              "15                    які      7\n",
              "16                     не      6\n",
              "17                  мають      2\n",
              "18            спеціальних      3\n",
              "19                  звань      3\n",
              "20                     та     11\n",
              "21                   інші      1\n",
              "22             працівники      2\n",
              "23               працюють      1\n",
              "24                     за     14\n",
              "25              трудовими      2\n",
              "26             договорами      2\n",
              "27                      в     13\n",
              "28              державній      5\n",
              "29  кримінальновиконавчій      5"
            ]
          },
          "metadata": {
            "tags": []
          },
          "execution_count": 72
        }
      ]
    },
    {
      "cell_type": "code",
      "metadata": {
        "colab": {
          "base_uri": "https://localhost:8080/"
        },
        "id": "NaQKKtzUPb0i",
        "outputId": "760cbc48-9cd2-4413-e6ee-624a1e5ef073"
      },
      "source": [
        "get_word_count(related_text)"
      ],
      "execution_count": 57,
      "outputs": [
        {
          "output_type": "execute_result",
          "data": {
            "text/plain": [
              "788"
            ]
          },
          "metadata": {
            "tags": []
          },
          "execution_count": 57
        }
      ]
    },
    {
      "cell_type": "code",
      "metadata": {
        "id": "8Jub5YOaO8x8"
      },
      "source": [
        "top30_related_df = get_top30(related_df)"
      ],
      "execution_count": 58,
      "outputs": []
    },
    {
      "cell_type": "code",
      "metadata": {
        "colab": {
          "base_uri": "https://localhost:8080/",
          "height": 380
        },
        "id": "Movmvqhel85c",
        "outputId": "0b8ae61e-c637-4e4f-c4d7-893350d23231"
      },
      "source": [
        "plt.bar(top30_related_df[\"word\"], top30_related_df[\"count\"])\n",
        "plt.xticks(rotation=270)\n",
        "plt.show()"
      ],
      "execution_count": 59,
      "outputs": [
        {
          "output_type": "display_data",
          "data": {
            "image/png": "[encoded data removed]",
            "text/plain": [
              "<Figure size 432x288 with 1 Axes>"
            ]
          },
          "metadata": {
            "tags": [],
            "needs_background": "light"
          }
        }
      ]
    },
    {
      "cell_type": "code",
      "metadata": {
        "id": "bbEX5iRltUbv"
      },
      "source": [
        "from sklearn.feature_extraction.text import CountVectorizer\n",
        "from sklearn.naive_bayes import MultinomialNB"
      ],
      "execution_count": 60,
      "outputs": []
    },
    {
      "cell_type": "code",
      "metadata": {
        "id": "vFsjiAhsPCgz"
      },
      "source": [
        "dataset[\"Text\"] = dataset[\"Text\"].apply(lambda i: i.replace(\"#\",\"\"))\r\n",
        "learning_materials_spam = pd.DataFrame(columns=[\"Text\",\"Class\"],data=dataset[\"Text\"])\r\n",
        "learning_materials_spam[\"Class\"] = \"unrelated\"\r\n",
        "learning_materials_spam.dropna(inplace=True)"
      ],
      "execution_count": 61,
      "outputs": []
    },
    {
      "cell_type": "code",
      "metadata": {
        "id": "lyk3x4pNPE-t"
      },
      "source": [
        "learning_materials_related = pd.DataFrame(columns=[\"Text\"], data=[related_text])\r\n",
        "learning_materials_related[\"Class\"] = \"related\""
      ],
      "execution_count": 62,
      "outputs": []
    },
    {
      "cell_type": "code",
      "metadata": {
        "colab": {
          "base_uri": "https://localhost:8080/",
          "height": 740
        },
        "id": "iYs7jp46uJew",
        "outputId": "8f8586ab-cbc7-4e11-b76a-b5331b6f51dd"
      },
      "source": [
        "learning_materials = learning_materials_spam.append(learning_materials_related)\n",
        "learning_materials.reset_index(drop=True,inplace=True)\n",
        "learning_materials"
      ],
      "execution_count": 63,
      "outputs": [
        {
          "output_type": "execute_result",
          "data": {
            "text/html": [
              "<div>\n",
              "<style scoped>\n",
              "    .dataframe tbody tr th:only-of-type {\n",
              "        vertical-align: middle;\n",
              "    }\n",
              "\n",
              "    .dataframe tbody tr th {\n",
              "        vertical-align: top;\n",
              "    }\n",
              "\n",
              "    .dataframe thead th {\n",
              "        text-align: right;\n",
              "    }\n",
              "</style>\n",
              "<table border=\"1\" class=\"dataframe\">\n",
              "  <thead>\n",
              "    <tr style=\"text-align: right;\">\n",
              "      <th></th>\n",
              "      <th>Text</th>\n",
              "      <th>Class</th>\n",
              "    </tr>\n",
              "  </thead>\n",
              "  <tbody>\n",
              "    <tr>\n",
              "      <th>0</th>\n",
              "      <td>Все тут [на фронті] було по-інакшому. Думки пр...</td>\n",
              "      <td>unrelated</td>\n",
              "    </tr>\n",
              "    <tr>\n",
              "      <th>1</th>\n",
              "      <td>Суддя бачив, що бурлацьке діло розв'язується т...</td>\n",
              "      <td>unrelated</td>\n",
              "    </tr>\n",
              "    <tr>\n",
              "      <th>2</th>\n",
              "      <td>Коли Іванові минуло сім літ, він вже дивився н...</td>\n",
              "      <td>unrelated</td>\n",
              "    </tr>\n",
              "    <tr>\n",
              "      <th>3</th>\n",
              "      <td>Він - заводіяка і призвідця всіляких витівок т...</td>\n",
              "      <td>unrelated</td>\n",
              "    </tr>\n",
              "    <tr>\n",
              "      <th>4</th>\n",
              "      <td>Сопілку здумав нарядить.\\nЗробив, і як прийняв...</td>\n",
              "      <td>unrelated</td>\n",
              "    </tr>\n",
              "    <tr>\n",
              "      <th>5</th>\n",
              "      <td>Торік восени рушив наш батько через море, і пі...</td>\n",
              "      <td>unrelated</td>\n",
              "    </tr>\n",
              "    <tr>\n",
              "      <th>6</th>\n",
              "      <td>Золотницький сидить на лаві за столом.. Ясь ст...</td>\n",
              "      <td>unrelated</td>\n",
              "    </tr>\n",
              "    <tr>\n",
              "      <th>7</th>\n",
              "      <td>сторонні люди, розбираючись в тому, що відбува...</td>\n",
              "      <td>unrelated</td>\n",
              "    </tr>\n",
              "    <tr>\n",
              "      <th>8</th>\n",
              "      <td>“Я не бідолаха”: білоруски записали відео-відп...</td>\n",
              "      <td>unrelated</td>\n",
              "    </tr>\n",
              "    <tr>\n",
              "      <th>9</th>\n",
              "      <td>Крім того, на випаровування використовується ...</td>\n",
              "      <td>unrelated</td>\n",
              "    </tr>\n",
              "    <tr>\n",
              "      <th>10</th>\n",
              "      <td>Він просив увесь готелевий персонал таїти кіль...</td>\n",
              "      <td>unrelated</td>\n",
              "    </tr>\n",
              "    <tr>\n",
              "      <th>11</th>\n",
              "      <td>Особливо актуальною ця тема є зараз, коли в Ук...</td>\n",
              "      <td>unrelated</td>\n",
              "    </tr>\n",
              "    <tr>\n",
              "      <th>12</th>\n",
              "      <td>в математичному аналізі це інтеграл функції з...</td>\n",
              "      <td>unrelated</td>\n",
              "    </tr>\n",
              "    <tr>\n",
              "      <th>13</th>\n",
              "      <td>Барбітал проникає до плаценти і неонатальна се...</td>\n",
              "      <td>unrelated</td>\n",
              "    </tr>\n",
              "    <tr>\n",
              "      <th>14</th>\n",
              "      <td>Та хіба ж ми не рибалимо в морі? І в Азовськом...</td>\n",
              "      <td>unrelated</td>\n",
              "    </tr>\n",
              "    <tr>\n",
              "      <th>15</th>\n",
              "      <td>Держенергонагляд попереджає: рибалити поблизу ...</td>\n",
              "      <td>unrelated</td>\n",
              "    </tr>\n",
              "    <tr>\n",
              "      <th>16</th>\n",
              "      <td>Змащуємо кожен рогалик яєчним жовтком і злегка...</td>\n",
              "      <td>unrelated</td>\n",
              "    </tr>\n",
              "    <tr>\n",
              "      <th>17</th>\n",
              "      <td>А мені, — каже, — розказувала про се покійна к...</td>\n",
              "      <td>unrelated</td>\n",
              "    </tr>\n",
              "    <tr>\n",
              "      <th>18</th>\n",
              "      <td>Ковалівський — вибір тих, хто хоче змінити сві...</td>\n",
              "      <td>unrelated</td>\n",
              "    </tr>\n",
              "    <tr>\n",
              "      <th>19</th>\n",
              "      <td>У ВР запропонували формалізувати прецедент.\\nП...</td>\n",
              "      <td>unrelated</td>\n",
              "    </tr>\n",
              "    <tr>\n",
              "      <th>20</th>\n",
              "      <td>Висока температура повинна нормалізуватися про...</td>\n",
              "      <td>unrelated</td>\n",
              "    </tr>\n",
              "    <tr>\n",
              "      <th>21</th>\n",
              "      <td>1. До персоналу Державної кримінально-виконавч...</td>\n",
              "      <td>related</td>\n",
              "    </tr>\n",
              "  </tbody>\n",
              "</table>\n",
              "</div>"
            ],
            "text/plain": [
              "                                                 Text      Class\n",
              "0   Все тут [на фронті] було по-інакшому. Думки пр...  unrelated\n",
              "1   Суддя бачив, що бурлацьке діло розв'язується т...  unrelated\n",
              "2   Коли Іванові минуло сім літ, він вже дивився н...  unrelated\n",
              "3   Він - заводіяка і призвідця всіляких витівок т...  unrelated\n",
              "4   Сопілку здумав нарядить.\\nЗробив, і як прийняв...  unrelated\n",
              "5   Торік восени рушив наш батько через море, і пі...  unrelated\n",
              "6   Золотницький сидить на лаві за столом.. Ясь ст...  unrelated\n",
              "7   сторонні люди, розбираючись в тому, що відбува...  unrelated\n",
              "8   “Я не бідолаха”: білоруски записали відео-відп...  unrelated\n",
              "9    Крім того, на випаровування використовується ...  unrelated\n",
              "10  Він просив увесь готелевий персонал таїти кіль...  unrelated\n",
              "11  Особливо актуальною ця тема є зараз, коли в Ук...  unrelated\n",
              "12   в математичному аналізі це інтеграл функції з...  unrelated\n",
              "13  Барбітал проникає до плаценти і неонатальна се...  unrelated\n",
              "14  Та хіба ж ми не рибалимо в морі? І в Азовськом...  unrelated\n",
              "15  Держенергонагляд попереджає: рибалити поблизу ...  unrelated\n",
              "16  Змащуємо кожен рогалик яєчним жовтком і злегка...  unrelated\n",
              "17  А мені, — каже, — розказувала про се покійна к...  unrelated\n",
              "18  Ковалівський — вибір тих, хто хоче змінити сві...  unrelated\n",
              "19  У ВР запропонували формалізувати прецедент.\\nП...  unrelated\n",
              "20  Висока температура повинна нормалізуватися про...  unrelated\n",
              "21  1. До персоналу Державної кримінально-виконавч...    related"
            ]
          },
          "metadata": {
            "tags": []
          },
          "execution_count": 63
        }
      ]
    },
    {
      "cell_type": "code",
      "metadata": {
        "id": "KSlS20-LumGx"
      },
      "source": [
        "vectorizer = CountVectorizer()\n",
        "vectorized = vectorizer.fit_transform(learning_materials[\"Text\"])\n",
        "model = MultinomialNB()"
      ],
      "execution_count": 64,
      "outputs": []
    },
    {
      "cell_type": "code",
      "metadata": {
        "colab": {
          "base_uri": "https://localhost:8080/"
        },
        "id": "EZrYBB2xyX3T",
        "outputId": "2e84200c-b8d9-40de-d312-60b41d8e7121"
      },
      "source": [
        "model.fit(vectorized,learning_materials[\"Class\"].values)"
      ],
      "execution_count": 65,
      "outputs": [
        {
          "output_type": "execute_result",
          "data": {
            "text/plain": [
              "MultinomialNB(alpha=1.0, class_prior=None, fit_prior=True)"
            ]
          },
          "metadata": {
            "tags": []
          },
          "execution_count": 65
        }
      ]
    },
    {
      "cell_type": "code",
      "metadata": {
        "id": "D6rfH1e1zIQ0"
      },
      "source": [
        "def predict(text):\n",
        "  vector = vectorizer.transform([text])\n",
        "  related_prob,unrelated_prob = model.predict_proba(vector)[0]\n",
        "  print(\"\\n Ймовірності віднесення цього тексту до \\n Класу #1(спаму) - \", unrelated_prob, \"\\n Класу #2(пов'язаного тексту) - \", related_prob)"
      ],
      "execution_count": 66,
      "outputs": []
    },
    {
      "cell_type": "code",
      "metadata": {
        "colab": {
          "base_uri": "https://localhost:8080/"
        },
        "id": "pZ6QxSeIvibc",
        "outputId": "286d6f5c-6da8-4abf-b6f0-5f1777025fee"
      },
      "source": [
        "text = input()\n",
        "predict(text)"
      ],
      "execution_count": 68,
      "outputs": [
        {
          "output_type": "stream",
          "text": [
            "У разі виникнення конфлікту інтересів під час виконання службових повноважень особа рядового чи начальницького складу Державної кримінально-виконавчої служби України зобов’язана негайно доповісти про це своєму безпосередньому керівникові. Безпосередній керівник зобов’язаний вжити всіх необхідних заходів, спрямованих на запобігання конфлікту інтересів, шляхом доручення виконання відповідного службового завдання іншій посадовій особі, особистого виконання службового завдання чи в інший спосіб, передбачений законодавством\n",
            "\n",
            " Ймовірності віднесення цього тексту до \n",
            " Класу #1(спаму) -  3.748910349544063e-12 \n",
            " Класу #2(пов'язаного тексту) -  0.9999999999962483\n"
          ],
          "name": "stdout"
        }
      ]
    },
    {
      "cell_type": "code",
      "metadata": {
        "colab": {
          "base_uri": "https://localhost:8080/"
        },
        "id": "Xe6Ue8WSyf4g",
        "outputId": "2382ef84-2d52-4648-bce2-a17e96aaa55f"
      },
      "source": [
        "text = input()\n",
        "predict(text)"
      ],
      "execution_count": null,
      "outputs": [
        {
          "output_type": "stream",
          "text": [
            "Розподілена система — це набір незалежних комп'ютерів, що представляється їх користувачам єдиною об'єднаною системою.  У цьому визначенні обмовляються два моменти. Перший відноситься до апаратури: всі машини автономні. Другий стосується програмного забезпечення: користувачі думають, що мають справу з єдиною системою. Важливо обидва моменти. Можливо, замість того щоб розглядати визначення, розумніше буде зосередитися на важливих характеристиках розподілених систем. Перша з таких характеристик полягає в тому, що від користувачів приховані відмінності між комп'ютерами і способи зв'язку між ними. Те ж саме відноситься і до зовнішньої організації розподілених систем. Іншою важливою характеристикою розподілених систем є спосіб, за допомогою якого користувачі і додатки одноманітно працюють в розподілених системах, незалежно від того, де і коли відбувається їх взаємодія\n",
            "\n",
            " Ймовірності віднесення цього тексту до \n",
            " Класу #1(спаму) -  0.9966969633302696 \n",
            " Класу #2(пов'язаного тексту) -  0.0033030366697208388\n"
          ],
          "name": "stdout"
        }
      ]
    },
    {
      "cell_type": "code",
      "metadata": {
        "colab": {
          "base_uri": "https://localhost:8080/"
        },
        "id": "t7rR__azw3Ep",
        "outputId": "cf01e351-f2bb-453b-e8a6-e8cbbd741e70"
      },
      "source": [
        "text = input()\n",
        "predict(text)"
      ],
      "execution_count": null,
      "outputs": [
        {
          "output_type": "stream",
          "text": [
            "Обмеження Державній кримінально. Особи рядового і начальницького складу. У разі, яка перебуває в підпорядкуванні, підлягає звільненню із служби\n",
            "\n",
            " Ймовірності віднесення цього тексту до \n",
            " Класу #1(спаму) -  1.1425638651495574e-07 \n",
            " Класу #2(пов'язаного тексту) -  0.999999885743612\n"
          ],
          "name": "stdout"
        }
      ]
    },
    {
      "cell_type": "code",
      "metadata": {
        "colab": {
          "base_uri": "https://localhost:8080/"
        },
        "id": "9pZ-6Vc_yjYb",
        "outputId": "750a6cf7-4a40-4bdd-fa52-94d0bc586d92"
      },
      "source": [
        "text = input()\n",
        "predict(text)"
      ],
      "execution_count": null,
      "outputs": [
        {
          "output_type": "stream",
          "text": [
            "Організація особами рядового і начальницького складу та працівниками\n",
            "\n",
            " Ймовірності віднесення цього тексту до \n",
            " Класу #1(спаму) -  0.013945510976633744 \n",
            " Класу #2(пов'язаного тексту) -  0.9860544890233656\n"
          ],
          "name": "stdout"
        }
      ]
    }
  ]
}